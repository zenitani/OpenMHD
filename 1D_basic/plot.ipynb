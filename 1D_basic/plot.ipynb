{
 "cells": [
  {
   "cell_type": "code",
   "execution_count": null,
   "metadata": {},
   "outputs": [],
   "source": [
    "%matplotlib inline\n",
    "import numpy as np\n",
    "import matplotlib.pyplot as plt\n",
    "# dummy index\n",
    "x=0;y=1;ro=2;pr=3;vx=4;vy=5;vz=6;bx=7;by=8;bz=9\n",
    "\n",
    "# reading the data...\n",
    "data = np.loadtxt('data/x-00002.dat')\n",
    "plt.plot(data[:,x],data[:,by],color='b',marker='o')\n",
    "plt.xlabel('X')\n",
    "plt.ylabel('Pressure')\n",
    "plt.show()\n",
    "#plt.savefig(\"output.png\")"
   ]
  },
  {
   "cell_type": "code",
   "execution_count": null,
   "metadata": {},
   "outputs": [],
   "source": [
    "# Interactive version by jupyter-notebook & ipywidgets\n",
    "# To use it, please install jupyter and ipywidgets.\n",
    "# $ pip3 install jupyter ipywidgets\n",
    "# $ [ pip3 install -U jupyter ipywidgets ]\n",
    "# Then one can run this sample\n",
    "# $ jupyter-notebook plot.ipynb\n",
    "\n",
    "%matplotlib inline\n",
    "import numpy as np\n",
    "import matplotlib.pyplot as plt\n",
    "import glob\n",
    "from ipywidgets import interact\n",
    "\n",
    "labels={\"x\":0,\"y\":1,\"Density\":2,\"Pressure\":3,\"vx\":4,\"vy\":5,\"vz\":6,\"Bx\":7,\"By\":8,\"Bz\":9}\n",
    "colors=['r','g','b']\n",
    "markers=['o','s','.']\n",
    "linestyles=['--','-.','-']\n",
    "datalist = sorted(glob.glob('data/x-?????.dat')) # filelist (regular expression)\n",
    "\n",
    "@interact (inputdata=datalist,xlabel=labels,ylabel=labels,color=colors,marker=markers,linestyle=linestyles)\n",
    "def plot(inputdata,xlabel=0,ylabel=3,color='b',marker='o',linestyle='-'):\n",
    "    # reading the data...\n",
    "    data = np.loadtxt(inputdata)\n",
    "    # plot\n",
    "    plt.plot(data[:,xlabel],data[:,ylabel],color=color,marker=marker,linestyle=linestyle)\n",
    "    labelnames = list(labels.keys())\n",
    "    plt.xlabel(labelnames[xlabel])\n",
    "    plt.ylabel(labelnames[ylabel])\n",
    "    #plt.savefig(\"output.png\")"
   ]
  },
  {
   "cell_type": "code",
   "execution_count": null,
   "metadata": {},
   "outputs": [],
   "source": []
  }
 ],
 "metadata": {
  "kernelspec": {
   "display_name": "Python 3 (ipykernel)",
   "language": "python",
   "name": "python3"
  },
  "language_info": {
   "codemirror_mode": {
    "name": "ipython",
    "version": 3
   },
   "file_extension": ".py",
   "mimetype": "text/x-python",
   "name": "python",
   "nbconvert_exporter": "python",
   "pygments_lexer": "ipython3",
   "version": "3.12.6"
  },
  "toc": {
   "base_numbering": 1,
   "nav_menu": {},
   "number_sections": true,
   "sideBar": true,
   "skip_h1_title": false,
   "title_cell": "Table of Contents",
   "title_sidebar": "Contents",
   "toc_cell": false,
   "toc_position": {},
   "toc_section_display": true,
   "toc_window_display": false
  }
 },
 "nbformat": 4,
 "nbformat_minor": 4
}
